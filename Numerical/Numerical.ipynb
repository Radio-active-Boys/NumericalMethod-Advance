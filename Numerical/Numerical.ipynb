{
 "cells": [
  {
   "cell_type": "code",
   "execution_count": 5,
   "metadata": {},
   "outputs": [],
   "source": [
    "xp  = 12\n",
    "xn  = 9\n",
    "\n",
    "def f(x):\n",
    "    return 3*x+2\n",
    "def bracket(xn,xp,f,imax,tol):\n",
    "    i = 0\n",
    "    imax = 10000\n",
    "    tol = 1e-4\n",
    "    while (i<imax):\n",
    "      xnew = 0.5*(xp+xn)\n",
    "      if(f(xnew)<tol):\n",
    "        return xnew    \n",
    "      if(f(xnew)<0):\n",
    "        xn = xnew\n",
    "      else:\n",
    "        xp = xnew\n",
    "      i+=1\n"
   ]
  },
  {
   "cell_type": "code",
   "execution_count": 9,
   "metadata": {},
   "outputs": [
    {
     "name": "stdout",
     "output_type": "stream",
     "text": [
      "[-90.0, -42.0, 20.0]\n"
     ]
    }
   ],
   "source": [
    "def backSub(u,b):\n",
    "    n = len(u)\n",
    "    x = [0]*n\n",
    "    ui = 0\n",
    "    x[n-1] = b[n-1]/u[n-1][n-1]\n",
    "    for i in range (n-2,-1,-1):\n",
    "        ui = ui+u[i][i+1]*x[i+1]\n",
    "        x[i] = (b[i]-ui)/u[i][i]\n",
    "    return x\n",
    "u = [[1,-1,2],[0,1,2],[0,0,-1]]\n",
    "b = [-8,-2,-20]\n",
    "x = backSub(u,b)\n",
    "print(x)\n"
   ]
  },
  {
   "cell_type": "code",
   "execution_count": 32,
   "metadata": {},
   "outputs": [
    {
     "name": "stdout",
     "output_type": "stream",
     "text": [
      "[[ 3.00000000e+00 -1.00000000e+00  2.00000000e+00]\n",
      " [ 0.00000000e+00  2.33333333e+00  2.33333333e+00]\n",
      " [ 0.00000000e+00  2.22044605e-16 -1.00000000e+00]]\n",
      "[12.  7. -2.]\n",
      "Solution: [3.0, 0.9999999999999994, 2.0000000000000004]\n"
     ]
    }
   ],
   "source": [
    "import numpy as np\n",
    "\n",
    "def backSub(u, b):\n",
    "    n = len(u)\n",
    "    x = [0] * n\n",
    "    x[n - 1] = b[n - 1] / u[n - 1][n - 1]\n",
    "    for i in range(n - 2, -1, -1):\n",
    "        x[i] = b[i]\n",
    "        for j in range(i + 1, n):\n",
    "            x[i] -= u[i][j] * x[j]\n",
    "        x[i] /= u[i][i]\n",
    "    return x\n",
    "\n",
    "def gaussian_elimination(A, b):\n",
    "    n = len(A)\n",
    "    for k in range(0,n-1):\n",
    "        for i in range(k+1, n):\n",
    "            factor = A[i][k] / A[k][k]\n",
    "            for j in range(k, n):\n",
    "                A[i][j] -= factor * A[k][j]\n",
    "            b[i] -= factor * b[k]\n",
    "    print(A)\n",
    "    print(b)\n",
    "    x = backSub(A, b)\n",
    "    return x\n",
    "\n",
    "# Example usage:\n",
    "A = np.array([[3.0, -1.0, 2.0],\n",
    "              [1.0, 2.0, 3.0],\n",
    "              [2.0, -2.0, -1.0]])\n",
    "b = np.array([12.0, 11.0, 2.0])\n",
    "\n",
    "solution = gaussian_elimination(A, b)\n",
    "print(\"Solution:\", solution)\n"
   ]
  },
  {
   "cell_type": "code",
   "execution_count": 35,
   "metadata": {},
   "outputs": [
    {
     "name": "stdout",
     "output_type": "stream",
     "text": [
      "[[ 3.00000000e+00 -1.00000000e+00  2.00000000e+00]\n",
      " [ 0.00000000e+00  2.33333333e+00  2.33333333e+00]\n",
      " [ 0.00000000e+00  2.22044605e-16 -1.00000000e+00]]\n",
      "[12.  7. -2.]\n",
      "Solution: [3.0, 0.9999999999999994, 2.0000000000000004]\n"
     ]
    }
   ],
   "source": [
    "import numpy as np\n",
    "\n",
    "def backSub(u, b):\n",
    "    n = len(u)\n",
    "    x = [0] * n\n",
    "    x[n - 1] = b[n - 1] / u[n - 1][n - 1]\n",
    "    for i in range(n - 2, -1, -1):\n",
    "        x[i] = b[i]\n",
    "        for j in range(i + 1, n):\n",
    "            x[i] -= u[i][j] * x[j]\n",
    "        x[i] /= u[i][i]  # Corrected this line\n",
    "    return x\n",
    "\n",
    "def gaussian_elimination(A, b):\n",
    "    n = len(A)\n",
    "    for k in range(n - 1):\n",
    "        for i in range(k + 1, n):\n",
    "            factor = A[i][k] / A[k][k]\n",
    "            for j in range(k, n):\n",
    "                A[i][j] -= factor * A[k][j]\n",
    "            b[i] -= factor * b[k]\n",
    "    print(A)\n",
    "    print(b)\n",
    "    x = backSub(A, b)\n",
    "    return x\n",
    "\n",
    "# Example usage:\n",
    "A = np.array([[3.0, -1.0, 2.0],\n",
    "              [1.0, 2.0, 3.0],\n",
    "              [2.0, -2.0, -1.0]])\n",
    "b = np.array([12.0, 11.0, 2.0])\n",
    "\n",
    "solution = gaussian_elimination(A, b)\n",
    "print(\"Solution:\", solution)\n"
   ]
  },
  {
   "cell_type": "code",
   "execution_count": 33,
   "metadata": {},
   "outputs": [
    {
     "name": "stdout",
     "output_type": "stream",
     "text": [
      "[[ 3.00000000e+00 -1.00000000e+00  2.00000000e+00  9.00000000e+00]\n",
      " [ 0.00000000e+00  2.33333333e+00  2.33333333e+00  2.33333333e+00]\n",
      " [ 0.00000000e+00  2.22044605e-16 -1.00000000e+00 -2.00000000e+00]]\n",
      "Solution: [3. 1. 2.]\n"
     ]
    }
   ],
   "source": [
    "import numpy as np\n",
    "\n",
    "def gaussian_elimination(A, b):\n",
    "    n = len(A)\n",
    "\n",
    "    augmented_matrix = np.column_stack((A, b))\n",
    "\n",
    "    for k in range(n):\n",
    "        for i in range(k + 1, n):\n",
    "            factor = augmented_matrix[i, k] / augmented_matrix[k, k]\n",
    "            augmented_matrix[i, k:] -= factor * augmented_matrix[k, k:]\n",
    "\n",
    "    # Back-substitution\n",
    "    x = np.zeros(n)\n",
    "    for k in range(n - 1, -1, -1):\n",
    "        x[k] = augmented_matrix[k, -1] / augmented_matrix[k, k]\n",
    "        for i in range(k - 1, -1, -1):\n",
    "            augmented_matrix[i, -1] -= augmented_matrix[i, k] * x[k]\n",
    "    print(augmented_matrix)\n",
    "    return x\n",
    "\n",
    "# Example usage:\n",
    "A = np.array([[3.0, -1.0, 2.0],\n",
    "              [1.0, 2.0, 3.0],\n",
    "              [2.0, -2.0, -1.0]])\n",
    "b = np.array([12.0, 11.0, 2.0])\n",
    "\n",
    "solution = gaussian_elimination(A, b)\n",
    "print(\"Solution:\", solution)\n"
   ]
  },
  {
   "cell_type": "code",
   "execution_count": 47,
   "metadata": {},
   "outputs": [
    {
     "name": "stdout",
     "output_type": "stream",
     "text": [
      "[[0, 0.0, 0, 0], [0, 0, -0.5, 0], [0, 0, 0, -0.6666666666666666], [0, 0, 0, 0]]\n",
      "[0.0, -0.0, -0.0, 0]\n"
     ]
    }
   ],
   "source": [
    "def tri(a, b):\n",
    "    n = len(a)\n",
    "    x = [[0] * n for i in range(n)]\n",
    "    y = [0] * n\n",
    "    x[0][1] = a[0][1] / a[0][0]\n",
    "    y[0] = b[0] / a[0][0]\n",
    "    for i in range(1, n - 1):\n",
    "        x[i][i + 1] = a[i][i + 1] / (a[i][i] - x[i - 1][i] * a[i][i - 1])\n",
    "        y[i] = (b[i] - y[i - 1] * a[i][i - 1]) / (a[i][i] - x[i - 1][i] * a[i][i - 1])\n",
    "    print(x)\n",
    "    print(y)\n",
    "    return x, y\n",
    "\n",
    "T = [[1, 0, 0, 0], [1, -2, 1, 0], [0, 1, -2, 1], [0, 0, 0, 1]]\n",
    "b = [0, 0, 0, 1]\n",
    "x, y = tri(T, b)\n"
   ]
  },
  {
   "cell_type": "code",
   "execution_count": 49,
   "metadata": {},
   "outputs": [
    {
     "name": "stdout",
     "output_type": "stream",
     "text": [
      "Solution: [0.0, 0.3333333333333333, 0.6666666666666666, 1.0]\n"
     ]
    }
   ],
   "source": [
    "def thomas(n, a, b, c, d):\n",
    "    # Step 1: Perform Upper Triangulation\n",
    "    c[0] = c[0] / b[0]\n",
    "    d[0] = d[0] / b[0]\n",
    "\n",
    "    for i in range(1, n):\n",
    "        m = 1.0 / (b[i] - a[i] * c[i - 1])\n",
    "        c[i] = c[i] * m\n",
    "        d[i] = (d[i] - a[i] * d[i - 1]) * m\n",
    "\n",
    "    # Step 2: Back Substitution\n",
    "    x = [0] * n\n",
    "    x[n - 1] = d[n - 1]\n",
    "\n",
    "    for i in range(n - 2, -1, -1):\n",
    "        x[i] = d[i] - c[i] * x[i + 1]\n",
    "\n",
    "    return x\n",
    "\n",
    "# Example usage:\n",
    "n = 4\n",
    "a = [0, 1, 1, 0]  # Sub-diagonal\n",
    "b = [1, -2, -2, 1]  # Diagonal\n",
    "c = [0, 1, 1, 0]  # Super-diagonal\n",
    "d = [0, 0, 0, 1]  # Right-hand side\n",
    "\n",
    "x = thomas(n, a, b, c, d)\n",
    "print(\"Solution:\", x)\n"
   ]
  },
  {
   "cell_type": "code",
   "execution_count": 51,
   "metadata": {},
   "outputs": [
    {
     "name": "stdout",
     "output_type": "stream",
     "text": [
      "L-Matrix:\n",
      "[[ 1.          0.          0.        ]\n",
      " [ 0.33333333  1.          0.        ]\n",
      " [ 0.66666667 -0.57142857  1.        ]]\n",
      "U-Matrix:\n",
      "[[ 3.         -1.          2.        ]\n",
      " [ 0.          2.33333333  2.33333333]\n",
      " [ 0.          0.         -1.        ]]\n",
      "Solution: [3. 1. 2.]\n"
     ]
    }
   ],
   "source": [
    "import numpy as np\n",
    "\n",
    "def LU_decomposition(A):\n",
    "    n = len(A)\n",
    "    L = np.zeros((n, n))\n",
    "    U = np.zeros((n, n))\n",
    "\n",
    "    for i in range(n):\n",
    "        L[i][i] = 1\n",
    "        for j in range(i, n):\n",
    "            U[i][j] = A[i][j]\n",
    "            for k in range(i):\n",
    "                U[i][j] -= L[i][k] * U[k][j]\n",
    "        for j in range(i + 1, n):\n",
    "            L[j][i] = A[j][i]\n",
    "            for k in range(i):\n",
    "                L[j][i] -= L[j][k] * U[k][i]\n",
    "            L[j][i] /= U[i][i]\n",
    "\n",
    "    return L, U\n",
    "\n",
    "def forward_substitution(L, b):\n",
    "    n = len(L)\n",
    "    y = np.zeros(n)\n",
    "    for i in range(n):\n",
    "        y[i] = b[i]\n",
    "        for j in range(i):\n",
    "            y[i] -= L[i][j] * y[j]\n",
    "    return y\n",
    "\n",
    "def backward_substitution(U, y):\n",
    "    n = len(U)\n",
    "    x = np.zeros(n)\n",
    "    for i in range(n - 1, -1, -1):\n",
    "        x[i] = y[i]\n",
    "        for j in range(i + 1, n):\n",
    "            x[i] -= U[i][j] * x[j]\n",
    "        x[i] /= U[i][i]\n",
    "    return x\n",
    "\n",
    "# Example usage:\n",
    "A = np.array([[3, -1, 2],\n",
    "              [1, 2, 3],\n",
    "              [2, -2, -1]])\n",
    "b = np.array([12, 11, 2])\n",
    "\n",
    "L, U = LU_decomposition(A)\n",
    "print(\"L-Matrix:\")\n",
    "print(L)\n",
    "print(\"U-Matrix:\")\n",
    "print(U)\n",
    "\n",
    "y = forward_substitution(L, b)\n",
    "x = backward_substitution(U, y)\n",
    "print(\"Solution:\", x)\n"
   ]
  },
  {
   "cell_type": "code",
   "execution_count": null,
   "metadata": {},
   "outputs": [],
   "source": []
  }
 ],
 "metadata": {
  "kernelspec": {
   "display_name": "Python 3",
   "language": "python",
   "name": "python3"
  },
  "language_info": {
   "codemirror_mode": {
    "name": "ipython",
    "version": 3
   },
   "file_extension": ".py",
   "mimetype": "text/x-python",
   "name": "python",
   "nbconvert_exporter": "python",
   "pygments_lexer": "ipython3",
   "version": "3.11.5"
  }
 },
 "nbformat": 4,
 "nbformat_minor": 2
}
